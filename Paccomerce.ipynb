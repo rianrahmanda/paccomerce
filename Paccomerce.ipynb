{
  "nbformat": 4,
  "nbformat_minor": 0,
  "metadata": {
    "colab": {
      "provenance": []
    },
    "kernelspec": {
      "name": "python3",
      "display_name": "Python 3"
    },
    "language_info": {
      "name": "python"
    }
  },
  "cells": [
    {
      "cell_type": "code",
      "execution_count": null,
      "metadata": {
        "id": "pHD8ftjMHz_W"
      },
      "outputs": [],
      "source": [
        "from tabulate import tabulate\n",
        "from math import sqrt"
      ]
    },
    {
      "cell_type": "code",
      "source": [
        "class Membership:\n",
        "    database_user = {\n",
        "        \"Sumbul\": \"Platinum\",\n",
        "        \"Ana\": \"Gold\",\n",
        "        \"Cahya\": \"Platinum\"\n",
        "    }\n",
        "\n",
        "    table_membership = {\n",
        "        'Platinum' : ['Platinum', '15%', 'Voucher Makanan + Voucher Ojek Online + Voucher Liburan + Chasback Max 30%'],\n",
        "        'Gold' : ['Gold', '10%', 'Voucher Makanan + Voucher Ojek Online'],\n",
        "        'Silver' : ['Silver', '8%', 'Voucher Makanan']\n",
        "    }\n",
        "\n",
        "    table_requirement = {\n",
        "        'Platinum' : ['Platinum', 8, 15],\n",
        "        'Gold' : ['Gold', 6, 10],\n",
        "        'Silver' : ['Silver', 5, 7]\n",
        "    }\n",
        "\n",
        "    def __init__(self, username):\n",
        "        self.username = username\n",
        "        self.database_user[username] = \"\"\n",
        "\n",
        "    def check_all_membership(self):\n",
        "        table = [value for membership, value in self.table_membership.items()]\n",
        "        header = ['Membership', 'Diskon', 'Detail']\n",
        "        print(tabulate(table, headers=header))\n",
        "\n",
        "    def check_requirement(self):\n",
        "        table = [value for membership, value in self.table_requirement.items()]\n",
        "        header = ['Membership', 'Diskon', 'Detail']\n",
        "        print(tabulate(table, headers=header))\n",
        "\n",
        "    def predict_membership(self, username, monthly_expense, monthly_income):\n",
        "        if username in self.database_user.keys():\n",
        "            distance = {}\n",
        "\n",
        "            for key, value in self.table_requirement.items():\n",
        "                euclidean_distance = round(sqrt((monthly_expense - value[1])**2 + (monthly_income - value[2])**2),2)\n",
        "                distance[key] = euclidean_distance\n",
        "\n",
        "            print(f\"Hasil perhitungan Euclidean Distance dari user Shandy adalah {distance}\")\n",
        "\n",
        "            for key, value in distance.items():\n",
        "                if value == min(distance.values()):\n",
        "                    self.database_user[username] = key\n",
        "                    return key\n",
        "        else:\n",
        "            return 'Username tidak terdaftar'\n",
        "\n",
        "    def show_membership(self, username):\n",
        "        if isinstance(username, str):\n",
        "            if username in self.database_user.keys():\n",
        "                return self.database_user[username]\n",
        "            else:\n",
        "                return 'Username tidak terdaftar'\n",
        "        else:\n",
        "            return \"Inputan bukan string\"\n",
        "\n",
        "    def calculate_bill(self, username, list_harga):\n",
        "        try:\n",
        "            if username in self.database_user.keys():\n",
        "                membership_type = self.database_user[username]\n",
        "                if membership_type != '':\n",
        "                    diskon = int(self.table_membership[membership_type][1].split('%')[0]) / 100\n",
        "                    total_bill = (1 - diskon) * sum(list_harga)\n",
        "                    return total_bill\n",
        "                else:\n",
        "                    raise Exception(\"Membership kosong, silahkan lakukan predict!\")\n",
        "            else:\n",
        "                raise Exception('Username tidak terdaftar')\n",
        "        except Exception as e:\n",
        "            print(e)\n"
      ],
      "metadata": {
        "id": "PPrh6DsESHqu"
      },
      "execution_count": null,
      "outputs": []
    },
    {
      "cell_type": "code",
      "source": [
        "peni = Membership(\"peni\")\n",
        "peni.predict_membership(\"peni\", 9,12)\n",
        "peni.calculate_bill('peni', [150000, 200000, 400000])"
      ],
      "metadata": {
        "colab": {
          "base_uri": "https://localhost:8080/"
        },
        "id": "P-7UzsqXUezT",
        "outputId": "346b0f3b-0d48-4c9a-f04a-4d5d10fea6b1"
      },
      "execution_count": null,
      "outputs": [
        {
          "output_type": "stream",
          "name": "stdout",
          "text": [
            "Hasil perhitungan Euclidean Distance dari user Shandy adalah {'Platinum': 3.16, 'Gold': 3.61, 'Silver': 6.4}\n"
          ]
        },
        {
          "output_type": "execute_result",
          "data": {
            "text/plain": [
              "637500.0"
            ]
          },
          "metadata": {},
          "execution_count": 79
        }
      ]
    },
    {
      "cell_type": "code",
      "source": [
        "rani = Membership(\"rani\")\n",
        "rani.calculate_bill('ranip', [150000, 200000, 400000])"
      ],
      "metadata": {
        "colab": {
          "base_uri": "https://localhost:8080/"
        },
        "id": "Nea-MixeUQfx",
        "outputId": "d7064c05-df1c-4f36-a474-da56a67daf7c"
      },
      "execution_count": null,
      "outputs": [
        {
          "output_type": "stream",
          "name": "stdout",
          "text": [
            "Username tidak terdaftar\n"
          ]
        }
      ]
    },
    {
      "cell_type": "code",
      "source": [
        "x = -1\n",
        "\n",
        "try:\n",
        "    10 / 0\n",
        "    if x < 0:\n",
        "        raise Exception(\"Sorry, no numbers below zero\")\n",
        "except Exception as e:\n",
        "    print(e)"
      ],
      "metadata": {
        "colab": {
          "base_uri": "https://localhost:8080/"
        },
        "id": "z4uVC4U4hFGs",
        "outputId": "cc89a603-00f3-4e71-8f4d-0f35c110e455"
      },
      "execution_count": null,
      "outputs": [
        {
          "output_type": "stream",
          "name": "stdout",
          "text": [
            "division by zero\n"
          ]
        }
      ]
    },
    {
      "cell_type": "code",
      "source": [
        "if x < 0:\n",
        "    raise Exception(\"Sorry, no numbers below zero\")"
      ],
      "metadata": {
        "colab": {
          "base_uri": "https://localhost:8080/",
          "height": 187
        },
        "id": "pB2zReynhFaY",
        "outputId": "2a9e4908-1ddd-4a0b-8b65-a3bc9e99da93"
      },
      "execution_count": null,
      "outputs": [
        {
          "output_type": "error",
          "ename": "Exception",
          "evalue": "ignored",
          "traceback": [
            "\u001b[0;31m---------------------------------------------------------------------------\u001b[0m",
            "\u001b[0;31mException\u001b[0m                                 Traceback (most recent call last)",
            "\u001b[0;32m<ipython-input-72-d21168da31b9>\u001b[0m in \u001b[0;36m<cell line: 1>\u001b[0;34m()\u001b[0m\n\u001b[1;32m      1\u001b[0m \u001b[0;32mif\u001b[0m \u001b[0mx\u001b[0m \u001b[0;34m<\u001b[0m \u001b[0;36m0\u001b[0m\u001b[0;34m:\u001b[0m\u001b[0;34m\u001b[0m\u001b[0;34m\u001b[0m\u001b[0m\n\u001b[0;32m----> 2\u001b[0;31m     \u001b[0;32mraise\u001b[0m \u001b[0mException\u001b[0m\u001b[0;34m(\u001b[0m\u001b[0;34m\"Sorry, no numbers below zero\"\u001b[0m\u001b[0;34m)\u001b[0m\u001b[0;34m\u001b[0m\u001b[0;34m\u001b[0m\u001b[0m\n\u001b[0m",
            "\u001b[0;31mException\u001b[0m: Sorry, no numbers below zero"
          ]
        }
      ]
    },
    {
      "cell_type": "code",
      "source": [],
      "metadata": {
        "id": "fPXp_Nc4hR27"
      },
      "execution_count": null,
      "outputs": []
    }
  ]
}